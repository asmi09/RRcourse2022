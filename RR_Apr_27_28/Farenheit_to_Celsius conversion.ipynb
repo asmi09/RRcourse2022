{
 "cells": [
  {
   "cell_type": "code",
   "execution_count": 37,
   "id": "d6f37e07",
   "metadata": {},
   "outputs": [
    {
     "name": "stderr",
     "output_type": "stream",
     "text": [
      "E\n",
      "======================================================================\n",
      "ERROR: C:\\Users\\muhammad usman\\AppData\\Roaming\\jupyter\\runtime\\kernel-d8d98c2f-4ae2-4134-9f3f-5312a51a4c9b (unittest.loader._FailedTest)\n",
      "----------------------------------------------------------------------\n",
      "AttributeError: module '__main__' has no attribute 'C:\\Users\\muhammad usman\\AppData\\Roaming\\jupyter\\runtime\\kernel-d8d98c2f-4ae2-4134-9f3f-5312a51a4c9b'\n",
      "\n",
      "----------------------------------------------------------------------\n",
      "Ran 1 test in 0.001s\n",
      "\n",
      "FAILED (errors=1)\n"
     ]
    },
    {
     "ename": "SystemExit",
     "evalue": "True",
     "output_type": "error",
     "traceback": [
      "An exception has occurred, use %tb to see the full traceback.\n",
      "\u001b[1;31mSystemExit\u001b[0m\u001b[1;31m:\u001b[0m True\n"
     ]
    },
    {
     "name": "stderr",
     "output_type": "stream",
     "text": [
      "C:\\Users\\muhammad usman\\anaconda3\\lib\\site-packages\\IPython\\core\\interactiveshell.py:3452: UserWarning: To exit: use 'exit', 'quit', or Ctrl-D.\n",
      "  warn(\"To exit: use 'exit', 'quit', or Ctrl-D.\", stacklevel=1)\n"
     ]
    }
   ],
   "source": [
    "# Function for converting Fahrenheit to Celsius or Kelvin\n",
    "def celsius_kelvin_converter(fahreniet: float,trg_var: str) -> float:\n",
    "\t# Check for the valid input if not valid then type error as \"Invalid\" \n",
    "    if trg_var != ('C' or 'k'):\n",
    "        raise TypeError(\"Invalid!.\\n Either use Celsius or Kelvin\")\n",
    "    try:\n",
    "        fahreniet = float(fahreniet)\n",
    "        # minimum temperature in Fahrenheit \n",
    "        if fahreniet >= -459.67: \n",
    "            Celsius = (fahreniet - 32.0) * (5.0/9.0)\n",
    "            if trg_var == 'Celsius':\n",
    "                return round(Celsius,1)\n",
    "            elif trg_var == 'Kelvin':\n",
    "                return round(273.15 + Celsius, 1)\n",
    "        # if faranhiet value not within the accepted threshold level type and error\n",
    "        else:\n",
    "            raise Exception('Invalid Fahrenheit value')        \n",
    "    except TypeError:\n",
    "            print(\"Invalid float\") \n",
    "            \n",
    "#Required tests\n",
    "import unittest\n",
    "\n",
    "class Testing_Converter(unittest.TestCase):\n",
    "    #input testing\n",
    "    def Input_testing(self):\n",
    "        with self.assertRaises(\n",
    "            ValueError):\n",
    "            celsius_kelvin_converter(50, 'Réaumur')\n",
    "    \n",
    "    def Kelvin_testing(self):\n",
    "        #kelvin conversion testing\n",
    "     \tself.assertEqual(\n",
    "            celsius_kelvin_converter(0,'Kelvin'),255.37)\n",
    "     \tself.assertEqual(\n",
    "            celsius_kelvin_converter(1000,'Kelvin'),810.93)\n",
    "\n",
    "    def Clesius_testing(self):\n",
    "        #celsius conversion testing\n",
    "        self.assertEqual(\n",
    "            celsius_kelvin_converter(50, 'Celsius'), 10)\n",
    "        self.assertEqual(\n",
    "            celsius_kelvin_converter(70, 'Celsius'), 21.111)\n",
    "        self.assertEqual(\n",
    "            celsius_kelvin_converter(90, 'Celsius'), 32.222)\n",
    "\n",
    "    def out_of_threshold(self):\n",
    "        # values within out of range testing\n",
    "    \twith self.assertRaises(Exception):\n",
    "    \t\tcelsius_kelvin_converter(-500,'Kelvin')\n",
    "    \t\tcelsius_kelvin_converter(-900,'Kelvin')\n",
    "    \t\tcelsius_kelvin_converter(-300,'Kelvin')\n",
    "            \n",
    "\n",
    "if __name__ == '__main__':\n",
    "    unittest.main()"
   ]
  },
  {
   "cell_type": "code",
   "execution_count": null,
   "id": "313298ca",
   "metadata": {},
   "outputs": [],
   "source": []
  }
 ],
 "metadata": {
  "kernelspec": {
   "display_name": "Python 3 (ipykernel)",
   "language": "python",
   "name": "python3"
  },
  "language_info": {
   "codemirror_mode": {
    "name": "ipython",
    "version": 3
   },
   "file_extension": ".py",
   "mimetype": "text/x-python",
   "name": "python",
   "nbconvert_exporter": "python",
   "pygments_lexer": "ipython3",
   "version": "3.9.7"
  }
 },
 "nbformat": 4,
 "nbformat_minor": 5
}
